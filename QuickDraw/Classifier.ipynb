{
 "cells": [
  {
   "cell_type": "code",
   "execution_count": 1,
   "metadata": {},
   "outputs": [],
   "source": [
    "import numpy as np\n",
    "import pandas as pd\n",
    "\n",
    "%matplotlib inline\n",
    "import matplotlib.pyplot as plt\n",
    "\n",
    "from sklearn.metrics import accuracy_score, confusion_matrix, roc_curve, roc_auc_score\n",
    "from sklearn.model_selection import train_test_split, GridSearchCV"
   ]
  },
  {
   "cell_type": "code",
   "execution_count": 2,
   "metadata": {},
   "outputs": [],
   "source": [
    "import keras\n",
    "from keras.models import Sequential\n",
    "from keras.layers import Dense, Dropout, Flatten\n",
    "from keras.layers.convolutional import Conv2D, MaxPooling2D\n",
    "from keras.utils import np_utils\n",
    "from keras import backend as K\n",
    "import os\n",
    "import gc"
   ]
  },
  {
   "cell_type": "code",
   "execution_count": 3,
   "metadata": {},
   "outputs": [],
   "source": [
    "info = os.listdir('./data')\n",
    "len(info)\n",
    "df1 = {}\n",
    "for i in range(len(info)):\n",
    "    df1[info[i][0:-4]] = pd.read_csv('./data/'+info[i], index_col=0, sep = \",\", engine='python').sample(n=5000).reset_index(drop=True)\n"
   ]
  },
  {
   "cell_type": "code",
   "execution_count": 4,
   "metadata": {},
   "outputs": [
    {
     "data": {
      "text/html": [
       "<div>\n",
       "<style scoped>\n",
       "    .dataframe tbody tr th:only-of-type {\n",
       "        vertical-align: middle;\n",
       "    }\n",
       "\n",
       "    .dataframe tbody tr th {\n",
       "        vertical-align: top;\n",
       "    }\n",
       "\n",
       "    .dataframe thead th {\n",
       "        text-align: right;\n",
       "    }\n",
       "</style>\n",
       "<table border=\"1\" class=\"dataframe\">\n",
       "  <thead>\n",
       "    <tr style=\"text-align: right;\">\n",
       "      <th></th>\n",
       "      <th>drawing</th>\n",
       "      <th>word</th>\n",
       "    </tr>\n",
       "  </thead>\n",
       "  <tbody>\n",
       "    <tr>\n",
       "      <th>0</th>\n",
       "      <td>[[[193, 194, 180, 174, 166, 160], [217, 213, 1...</td>\n",
       "      <td>tree</td>\n",
       "    </tr>\n",
       "    <tr>\n",
       "      <th>1</th>\n",
       "      <td>[[[44, 50, 51], [114, 175, 255]], [[74, 79, 85...</td>\n",
       "      <td>tree</td>\n",
       "    </tr>\n",
       "    <tr>\n",
       "      <th>2</th>\n",
       "      <td>[[[28, 49, 57, 39, 7, 1, 0, 7, 20, 26, 22, 23,...</td>\n",
       "      <td>tree</td>\n",
       "    </tr>\n",
       "    <tr>\n",
       "      <th>3</th>\n",
       "      <td>[[[78, 78, 76, 64], [116, 220, 234, 255]], [[1...</td>\n",
       "      <td>tree</td>\n",
       "    </tr>\n",
       "    <tr>\n",
       "      <th>4</th>\n",
       "      <td>[[[77, 77, 58, 174, 173, 138, 121, 119, 122, 7...</td>\n",
       "      <td>tree</td>\n",
       "    </tr>\n",
       "    <tr>\n",
       "      <th>...</th>\n",
       "      <td>...</td>\n",
       "      <td>...</td>\n",
       "    </tr>\n",
       "    <tr>\n",
       "      <th>4995</th>\n",
       "      <td>[[[63, 60, 63], [152, 167, 255]], [[62, 27, 12...</td>\n",
       "      <td>tree</td>\n",
       "    </tr>\n",
       "    <tr>\n",
       "      <th>4996</th>\n",
       "      <td>[[[36, 51, 66, 60, 43, 25, 12, 9, 0, 1, 23, 46...</td>\n",
       "      <td>tree</td>\n",
       "    </tr>\n",
       "    <tr>\n",
       "      <th>4997</th>\n",
       "      <td>[[[93, 49, 20, 17, 20, 37, 18, 6, 0, 5, 31, 41...</td>\n",
       "      <td>tree</td>\n",
       "    </tr>\n",
       "    <tr>\n",
       "      <th>4998</th>\n",
       "      <td>[[[69, 34], [119, 194]], [[71, 41], [113, 109]...</td>\n",
       "      <td>tree</td>\n",
       "    </tr>\n",
       "    <tr>\n",
       "      <th>4999</th>\n",
       "      <td>[[[102, 104, 88, 45, 33, 15, 2, 0, 3, 6, 12, 2...</td>\n",
       "      <td>tree</td>\n",
       "    </tr>\n",
       "  </tbody>\n",
       "</table>\n",
       "<p>5000 rows × 2 columns</p>\n",
       "</div>"
      ],
      "text/plain": [
       "                                                drawing  word\n",
       "0     [[[193, 194, 180, 174, 166, 160], [217, 213, 1...  tree\n",
       "1     [[[44, 50, 51], [114, 175, 255]], [[74, 79, 85...  tree\n",
       "2     [[[28, 49, 57, 39, 7, 1, 0, 7, 20, 26, 22, 23,...  tree\n",
       "3     [[[78, 78, 76, 64], [116, 220, 234, 255]], [[1...  tree\n",
       "4     [[[77, 77, 58, 174, 173, 138, 121, 119, 122, 7...  tree\n",
       "...                                                 ...   ...\n",
       "4995  [[[63, 60, 63], [152, 167, 255]], [[62, 27, 12...  tree\n",
       "4996  [[[36, 51, 66, 60, 43, 25, 12, 9, 0, 1, 23, 46...  tree\n",
       "4997  [[[93, 49, 20, 17, 20, 37, 18, 6, 0, 5, 31, 41...  tree\n",
       "4998  [[[69, 34], [119, 194]], [[71, 41], [113, 109]...  tree\n",
       "4999  [[[102, 104, 88, 45, 33, 15, 2, 0, 3, 6, 12, 2...  tree\n",
       "\n",
       "[5000 rows x 2 columns]"
      ]
     },
     "execution_count": 4,
     "metadata": {},
     "output_type": "execute_result"
    }
   ],
   "source": [
    "df1['tree']"
   ]
  },
  {
   "cell_type": "code",
   "execution_count": 5,
   "metadata": {},
   "outputs": [],
   "source": [
    "from ast import literal_eval\n",
    "for item in df1:\n",
    "    df1[item].drawing = df1[item].drawing.apply(literal_eval)\n",
    "    df1[item] = df1[item].drawing.tolist()"
   ]
  },
  {
   "cell_type": "code",
   "execution_count": 6,
   "metadata": {},
   "outputs": [],
   "source": [
    "from PIL import Image, ImageDraw\n",
    "data = []\n",
    "labels = []\n",
    "label_item = {}\n",
    "label = 0\n",
    "for item in df1:\n",
    "    label_item[item] = label\n",
    "    for img in df1[item]:\n",
    "        out = Image.new(\"1\", (256, 256), 1)\n",
    "        draw = ImageDraw.Draw(out)\n",
    "        for stroke in img:\n",
    "            for i in range(len(stroke[0])-1):\n",
    "                draw.line((stroke[0][i], stroke[1][i], stroke[0][i+1], stroke[1][i+1]), fill=0,width = 10)\n",
    "        data.append(np.array(out.resize((64,64))))\n",
    "        labels.append(label)\n",
    "    label += 1"
   ]
  },
  {
   "cell_type": "code",
   "execution_count": 7,
   "metadata": {},
   "outputs": [
    {
     "data": {
      "text/plain": [
       "array([[ True,  True,  True, ...,  True,  True,  True],\n",
       "       [ True,  True,  True, ...,  True,  True,  True],\n",
       "       [ True,  True,  True, ...,  True,  True,  True],\n",
       "       ...,\n",
       "       [ True,  True,  True, ...,  True,  True,  True],\n",
       "       [ True,  True,  True, ...,  True,  True,  True],\n",
       "       [ True,  True,  True, ...,  True,  True,  True]])"
      ]
     },
     "execution_count": 7,
     "metadata": {},
     "output_type": "execute_result"
    }
   ],
   "source": [
    "data = np.array(data)\n",
    "data[0]"
   ]
  },
  {
   "cell_type": "code",
   "execution_count": 8,
   "metadata": {},
   "outputs": [],
   "source": [
    "X_train, X_test, y_train, y_test = train_test_split(data,labels,test_size=0.3,random_state=0)\n",
    "\n",
    "# one hot encode outputs\n",
    "y_train_cnn = np_utils.to_categorical(y_train)\n",
    "y_test_cnn = np_utils.to_categorical(y_test)\n",
    "num_classes = y_test_cnn.shape[1]"
   ]
  },
  {
   "cell_type": "code",
   "execution_count": 9,
   "metadata": {},
   "outputs": [],
   "source": [
    "X_train = X_train.reshape(X_train.shape[0], 64, 64, 1)\n",
    "X_test = X_test.reshape(X_test.shape[0], 64, 64, 1)"
   ]
  },
  {
   "cell_type": "code",
   "execution_count": 10,
   "metadata": {},
   "outputs": [],
   "source": [
    "model = Sequential()\n",
    "model.add(Conv2D(32, (5,5), input_shape=(64, 64, 1), activation='relu'))\n",
    "model.add(MaxPooling2D(pool_size=(2, 2)))\n",
    "model.add(Conv2D(64, (3, 3), activation='relu'))\n",
    "model.add(MaxPooling2D(pool_size=(2, 2)))\n",
    "model.add(Conv2D(128, (3,3), activation='relu'))\n",
    "model.add(MaxPooling2D(pool_size=(2, 2)))\n",
    "model.add(Conv2D(256, (3,3), activation='relu'))\n",
    "model.add(MaxPooling2D(pool_size=(2, 2)))\n",
    "model.add(Dropout(0.2))\n",
    "model.add(Flatten())\n",
    "model.add(Dense(128, activation='relu'))\n",
    "model.add(Dense(50, activation='relu'))\n",
    "model.add(Dense(30, activation='softmax'))\n",
    "model.compile(loss='categorical_crossentropy', optimizer='adam', metrics=['accuracy'])"
   ]
  },
  {
   "cell_type": "code",
   "execution_count": 20,
   "metadata": {},
   "outputs": [
    {
     "name": "stdout",
     "output_type": "stream",
     "text": [
      "Train on 105000 samples, validate on 45000 samples\n",
      "Epoch 1/1\n",
      "105000/105000 [==============================] - 10s 98us/step - loss: 0.1041 - accuracy: 0.9652 - val_loss: 0.2836 - val_accuracy: 0.9283\n"
     ]
    }
   ],
   "source": [
    "history = model.fit(X_train, y_train_cnn, validation_data=(X_test, y_test_cnn), epochs=1, batch_size=200)"
   ]
  },
  {
   "cell_type": "code",
   "execution_count": 17,
   "metadata": {},
   "outputs": [],
   "source": [
    "model.save('classifier_model.h5')"
   ]
  },
  {
   "cell_type": "code",
   "execution_count": 21,
   "metadata": {},
   "outputs": [
    {
     "name": "stdout",
     "output_type": "stream",
     "text": [
      "[0]\n"
     ]
    }
   ],
   "source": [
    "import cv2\n",
    "img = cv2.imread('./images/hand1.png', cv2.IMREAD_GRAYSCALE)\n",
    "img = cv2.resize(img,(64,64))\n",
    "img = img.reshape(1,64,64,1)\n",
    "img = np.where(img == 255,1,0)\n",
    "print(np.argmax(model.predict(img), axis=1)) "
   ]
  },
  {
   "cell_type": "code",
   "execution_count": 91,
   "metadata": {},
   "outputs": [
    {
     "data": {
      "text/plain": [
       "{'tree': 0,\n",
       " 'star': 1,\n",
       " 'hamburger': 2,\n",
       " 'diamond': 3,\n",
       " 'bee': 4,\n",
       " 'The_Eiffel_Tower': 5,\n",
       " 'sword': 6,\n",
       " 'cake': 7,\n",
       " 'bicycle': 8,\n",
       " 'ladder': 9,\n",
       " 'door': 10,\n",
       " 'guitar': 11,\n",
       " 'scissors': 12,\n",
       " 'chair': 13,\n",
       " 'bird': 14,\n",
       " 'pencil': 15,\n",
       " 'airplane': 16,\n",
       " 'shoe': 17,\n",
       " 'hand': 18,\n",
       " 'hat': 19,\n",
       " 'hammer': 20,\n",
       " 'rabbit': 21,\n",
       " 'leaf': 22,\n",
       " 'lion': 23,\n",
       " 'computer': 24,\n",
       " 'butterfly': 25,\n",
       " 'camera': 26,\n",
       " 'cat': 27,\n",
       " 'clock': 28,\n",
       " 'ear': 29}"
      ]
     },
     "execution_count": 91,
     "metadata": {},
     "output_type": "execute_result"
    }
   ],
   "source": [
    "label_item"
   ]
  },
  {
   "cell_type": "code",
   "execution_count": 31,
   "metadata": {},
   "outputs": [
    {
     "name": "stdout",
     "output_type": "stream",
     "text": [
      "WARNING:tensorflow:No training configuration found in the save file, so the model was *not* compiled. Compile it manually.\n"
     ]
    }
   ],
   "source": [
    "from tensorflow import keras\n",
    "model = keras.models.load_model('models/GAN_The_Eiffel_Tower.h5')"
   ]
  },
  {
   "cell_type": "code",
   "execution_count": 32,
   "metadata": {},
   "outputs": [
    {
     "data": {
      "image/png": "[encoded data removed]",
      "text/plain": [
       "<Figure size 720x720 with 100 Axes>"
      ]
     },
     "metadata": {
      "needs_background": "light"
     },
     "output_type": "display_data"
    }
   ],
   "source": [
    "num_examples = 100\n",
    "random_noise = np.random.normal(0, 1, size=[num_examples, 100])\n",
    "generated_images = model.predict(random_noise)\n",
    "generated_images = (generated_images.reshape(num_examples, 64, 64) + 1) *0.5\n",
    "\n",
    "plt.figure(figsize=(10, 10))\n",
    "for i in range(generated_images.shape[0]):\n",
    "    plt.subplot(10, 10, i+1)\n",
    "    plt.imshow(generated_images[i], interpolation='nearest', cmap='gray')\n",
    "    plt.axis('off')\n",
    "\n",
    "plt.suptitle(\"Samples from G - Epoch = \")\n",
    "plt.show()"
   ]
  },
  {
   "cell_type": "code",
   "execution_count": 28,
   "metadata": {},
   "outputs": [
    {
     "data": {
      "image/png": "[encoded data removed]",
      "text/plain": [
       "<Figure size 720x720 with 10 Axes>"
      ]
     },
     "metadata": {
      "needs_background": "light"
     },
     "output_type": "display_data"
    }
   ],
   "source": [
    "num_examples = 10\n",
    "random_noise = np.random.normal(0, 1, size=[num_examples, 100])\n",
    "generated_images = model.predict(random_noise)\n",
    "generated_images = (generated_images.reshape(num_examples, 64, 64) + 1) *0.5\n",
    "\n",
    "plt.figure(figsize=(10, 10))\n",
    "for i in range(generated_images.shape[0]):\n",
    "    plt.subplot(10, 10, i+1)\n",
    "    plt.imshow(generated_images[i], interpolation='nearest', cmap='gray')\n",
    "    plt.axis('off')\n",
    "\n",
    "plt.suptitle(\"Samples from G - Epoch = \")\n",
    "plt.show()"
   ]
  },
  {
   "cell_type": "code",
   "execution_count": 34,
   "metadata": {},
   "outputs": [
    {
     "name": "stdout",
     "output_type": "stream",
     "text": [
      "[ 5  5  5  5  5  5  5  5  5  5  5  5  5  5  5  5  5  5  5  5  5  5  5  5\n",
      "  5  5  5  5  5  5  5  5  5  5  5  5  5  5  5  5  5 29  5  5  5  5  5  5\n",
      "  5  5  5  5  5  5  5  5  5  5  5  5  5  5  5  5  5  5  5  5  5 15  5  5\n",
      "  5  5  5  5  5  5  5  5  5  5  5  5  5  5  5  5  5  5  5  5  5  5  5  5\n",
      "  5  5 29  5]\n"
     ]
    }
   ],
   "source": [
    "from tensorflow import keras\n",
    "model2 = keras.models.load_model('classifier_model.h5')\n",
    "generated_images = generated_images.reshape(100,64,64,1)\n",
    "print(np.argmax(model2.predict(generated_images), axis=1)) "
   ]
  },
  {
   "cell_type": "code",
   "execution_count": null,
   "metadata": {},
   "outputs": [],
   "source": []
  }
 ],
 "metadata": {
  "kernelspec": {
   "display_name": "Python 3",
   "language": "python",
   "name": "python3"
  },
  "language_info": {
   "codemirror_mode": {
    "name": "ipython",
    "version": 3
   },
   "file_extension": ".py",
   "mimetype": "text/x-python",
   "name": "python",
   "nbconvert_exporter": "python",
   "pygments_lexer": "ipython3",
   "version": "3.7.3"
  }
 },
 "nbformat": 4,
 "nbformat_minor": 4
}
